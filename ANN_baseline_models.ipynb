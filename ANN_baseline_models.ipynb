{
 "cells": [
  {
   "cell_type": "code",
   "execution_count": 3,
   "id": "d9909b5f",
   "metadata": {},
   "outputs": [
    {
     "name": "stdout",
     "output_type": "stream",
     "text": [
      "훈련 데이터 크기: (43722, 173) (43722, 22)\n",
      "테스트 데이터 크기: (10931, 173) (10931, 22)\n",
      "타겟 변수: ['M_STR', 'M_SLP_EN', 'M_SLP_HR', 'M_SLP_MM', 'M_WK_HR', 'M_WK_MM', 'M_SLP_HR_K', 'M_SLP_MM_K', 'M_WK_HR_K', 'M_WK_MM_K', 'M_SAD', 'M_SUI_CON', 'M_SUI_PLN', 'M_SUI_ATT', 'M_LON', 'M_GAD_1', 'M_GAD_2', 'M_GAD_3', 'M_GAD_4', 'M_GAD_5', 'M_GAD_6', 'M_GAD_7']\n"
     ]
    }
   ],
   "source": [
    "# 필요한 라이브러리 임포트\n",
    "import pandas as pd\n",
    "import numpy as np\n",
    "import tensorflow as tf\n",
    "from sklearn.model_selection import train_test_split\n",
    "from sklearn.linear_model import LinearRegression\n",
    "from sklearn.ensemble import RandomForestRegressor\n",
    "from sklearn.metrics import mean_squared_error, r2_score\n",
    "\n",
    "from tensorflow.keras.models import Model\n",
    "from tensorflow.keras.layers import Input, Dense\n",
    "\n",
    "# --- 데이터 로드 ---\n",
    "# 전처리 완료된 데이터 삽입\n",
    "df = pd.read_csv('adolescent_health_data.csv')\n",
    "\n",
    "# --- 피처(X)와 타겟(y) 정의 ---\n",
    "m_targets = [col for col in df.columns if col.startswith('M_')]\n",
    "all_features = [col for col in df.columns if col not in m_targets]\n",
    "\n",
    "X = df[all_features]\n",
    "y = df[m_targets]\n",
    "\n",
    "# --- 훈련/테스트 데이터 분할 ---\n",
    "# 모든 모델이 이 데이터를 사용합니다.\n",
    "X_train, X_test, y_train, y_test = train_test_split(X, y, test_size=0.2, random_state=42)\n",
    "\n",
    "print(\"훈련 데이터 크기:\", X_train.shape, y_train.shape)\n",
    "print(\"테스트 데이터 크기:\", X_test.shape, y_test.shape)\n",
    "print(\"타겟 변수:\", m_targets)"
   ]
  },
  {
   "cell_type": "markdown",
   "id": "8a604327",
   "metadata": {},
   "source": [
    "### Baseline 1 - Linear Regression\n",
    "(regularizaiton 적용?)"
   ]
  },
  {
   "cell_type": "code",
   "execution_count": null,
   "id": "758eef71",
   "metadata": {},
   "outputs": [],
   "source": [
    "# 1. 모델 생성 및 학습\n",
    "model_lr = LinearRegression()\n",
    "model_lr.fit(X_train, y_train)\n",
    "\n",
    "# 2. 예측\n",
    "y_pred_lr = model_lr.predict(X_test)\n",
    "\n",
    "# 3. 평가\n",
    "# 평균 제곱 오차(Mean Squared Error, MSE)는 작을수록 좋습니다.\n",
    "# R-squared(결정 계수)는 1에 가까울수록 좋습니다.\n",
    "mse_lr = mean_squared_error(y_test, y_pred_lr)\n",
    "r2_lr = r2_score(y_test, y_pred_lr)\n",
    "\n",
    "print(\"--- 선형 회귀 모델 평가 ---\")\n",
    "print(f\"MSE: {mse_lr:.4f}\")\n",
    "print(f\"R-squared: {r2_lr:.4f}\")"
   ]
  },
  {
   "cell_type": "markdown",
   "id": "19dd4b05",
   "metadata": {},
   "source": [
    "### Baseline 2 - Random Forest"
   ]
  },
  {
   "cell_type": "code",
   "execution_count": null,
   "id": "048e356f",
   "metadata": {},
   "outputs": [],
   "source": [
    "# 1. 모델 생성 및 학습\n",
    "# n_jobs=-1: 컴퓨터의 모든 CPU 코어를 사용하여 학습 속도를 높입니다.\n",
    "model_rf = RandomForestRegressor(n_estimators=100, random_state=42, n_jobs=-1)\n",
    "model_rf.fit(X_train, y_train)\n",
    "\n",
    "# 2. 예측\n",
    "y_pred_rf = model_rf.predict(X_test)\n",
    "\n",
    "# 3. 평가\n",
    "mse_rf = mean_squared_error(y_test, y_pred_rf)\n",
    "r2_rf = r2_score(y_test, y_pred_rf)\n",
    "\n",
    "print(\"--- 랜덤 포레스트 모델 평가 ---\")\n",
    "print(f\"MSE: {mse_rf:.4f}\")\n",
    "print(f\"R-squared: {r2_rf:.4f}\")\n",
    "\n",
    "# (참고) 만약 M_ 타겟이 확실한 분류(Classification) 문제라면\n",
    "# from sklearn.ensemble import RandomForestClassifier 를 사용할 수도 있습니다."
   ]
  },
  {
   "cell_type": "markdown",
   "id": "0a5000e8",
   "metadata": {},
   "source": [
    "### Baseline 3 - Basic ANN"
   ]
  },
  {
   "cell_type": "code",
   "execution_count": null,
   "id": "91142321",
   "metadata": {},
   "outputs": [],
   "source": [
    "# 1. 모델 정의 (Keras Functional API 사용)\n",
    "# 입력층: 전체 특성 개수만큼의 shape를 가짐\n",
    "input_layer = Input(shape=(X_train.shape[1],), name='input_layer')\n",
    "\n",
    "# 은닉층: 16개의 노드를 가진 Dense 레이어 1개\n",
    "hidden_layer = Dense(16, activation='relu', name='hidden_layer')(input_layer)\n",
    "\n",
    "# 출력층: 타겟 변수의 개수만큼 노드를 가짐\n",
    "# 타겟이 0~1 사이 값이면 sigmoid, 일반적인 연속 값이면 linear가 적합합니다.\n",
    "output_layer = Dense(len(m_targets), activation='sigmoid', name='output_layer')(hidden_layer)\n",
    "\n",
    "model_ann = Model(inputs=input_layer, outputs=output_layer)\n",
    "\n",
    "# 2. 모델 컴파일\n",
    "# 손실 함수로 MSE를 사용하여 다른 모델들과 평가 지표를 통일합니다.\n",
    "model_ann.compile(optimizer='adam', loss='mean_squared_error')\n",
    "\n",
    "model_ann.summary()\n",
    "\n",
    "# 3. 모델 학습\n",
    "history = model_ann.fit(\n",
    "    X_train,\n",
    "    y_train,\n",
    "    validation_split=0.2, # 훈련 데이터 중 일부를 검증용으로 사용\n",
    "    epochs=20,\n",
    "    batch_size=32,\n",
    "    verbose=0 # 학습 과정 로그 생략\n",
    ")\n",
    "\n",
    "print(\"\\n✅ 기본 ANN 모델 학습 완료!\")\n",
    "\n",
    "# 4. 예측 및 평가\n",
    "y_pred_ann = model_ann.predict(X_test)\n",
    "mse_ann = mean_squared_error(y_test, y_pred_ann)\n",
    "r2_ann = r2_score(y_test, y_pred_ann)\n",
    "\n",
    "print(\"\\n--- 기본 ANN 모델 평가 ---\")\n",
    "print(f\"MSE: {mse_ann:.4f}\")\n",
    "print(f\"R-squared: {r2_ann:.4f}\")"
   ]
  }
 ],
 "metadata": {
  "kernelspec": {
   "display_name": "Python 3 (ipykernel)",
   "language": "python",
   "name": "python3"
  },
  "language_info": {
   "codemirror_mode": {
    "name": "ipython",
    "version": 3
   },
   "file_extension": ".py",
   "mimetype": "text/x-python",
   "name": "python",
   "nbconvert_exporter": "python",
   "pygments_lexer": "ipython3",
   "version": "3.11.4"
  }
 },
 "nbformat": 4,
 "nbformat_minor": 5
}
